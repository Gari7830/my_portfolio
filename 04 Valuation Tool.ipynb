{
 "cells": [
  {
   "cell_type": "code",
   "execution_count": 68,
   "id": "f32c08df",
   "metadata": {},
   "outputs": [],
   "source": [
    "from sklearn.datasets import load_boston\n",
    "from sklearn.linear_model import LinearRegression\n",
    "from sklearn.metrics import mean_squared_error, mean_absolute_error, mean_absolute_percentage_error\n",
    "\n",
    "import pandas as pd\n",
    "import numpy as np"
   ]
  },
  {
   "cell_type": "code",
   "execution_count": 69,
   "id": "7b1e6f72",
   "metadata": {},
   "outputs": [
    {
     "name": "stderr",
     "output_type": "stream",
     "text": [
      "C:\\Users\\migue\\anaconda3\\lib\\site-packages\\sklearn\\utils\\deprecation.py:87: FutureWarning: Function load_boston is deprecated; `load_boston` is deprecated in 1.0 and will be removed in 1.2.\n",
      "\n",
      "    The Boston housing prices dataset has an ethical problem. You can refer to\n",
      "    the documentation of this function for further details.\n",
      "\n",
      "    The scikit-learn maintainers therefore strongly discourage the use of this\n",
      "    dataset unless the purpose of the code is to study and educate about\n",
      "    ethical issues in data science and machine learning.\n",
      "\n",
      "    In this special case, you can fetch the dataset from the original\n",
      "    source::\n",
      "\n",
      "        import pandas as pd\n",
      "        import numpy as np\n",
      "\n",
      "\n",
      "        data_url = \"http://lib.stat.cmu.edu/datasets/boston\"\n",
      "        raw_df = pd.read_csv(data_url, sep=\"\\s+\", skiprows=22, header=None)\n",
      "        data = np.hstack([raw_df.values[::2, :], raw_df.values[1::2, :2]])\n",
      "        target = raw_df.values[1::2, 2]\n",
      "\n",
      "    Alternative datasets include the California housing dataset (i.e.\n",
      "    :func:`~sklearn.datasets.fetch_california_housing`) and the Ames housing\n",
      "    dataset. You can load the datasets as follows::\n",
      "\n",
      "        from sklearn.datasets import fetch_california_housing\n",
      "        housing = fetch_california_housing()\n",
      "\n",
      "    for the California housing dataset and::\n",
      "\n",
      "        from sklearn.datasets import fetch_openml\n",
      "        housing = fetch_openml(name=\"house_prices\", as_frame=True)\n",
      "\n",
      "    for the Ames housing dataset.\n",
      "    \n",
      "  warnings.warn(msg, category=FutureWarning)\n"
     ]
    }
   ],
   "source": [
    "# Gather Data\n",
    "boston_dataset = load_boston()\n",
    "\n",
    "data = pd.DataFrame(data=boston_dataset.data, columns=boston_dataset.feature_names)\n",
    "features = data.drop(['INDUS', 'AGE'], axis=1)\n",
    "\n",
    "log_prices = np.log(boston_dataset.target)\n",
    "target = pd.DataFrame(log_prices, columns=['PRICE'])"
   ]
  },
  {
   "cell_type": "code",
   "execution_count": 70,
   "id": "886412a1",
   "metadata": {},
   "outputs": [],
   "source": [
    "CRIME_IDX = 0\n",
    "ZN_IDX = 1\n",
    "CHAS_IDX = 2\n",
    "RM_IDX = 4\n",
    "PTRATIO_IDX = 8\n",
    "\n",
    "# property_stats = np.ndarray(shape=(1, 11))\n",
    "# property_stats[0][CRIME_IDX] = features['CRIM'].mean()\n",
    "# property_stats[0][ZN_IDX] = features['ZN'].mean()\n",
    "# property_stats[0][CHAS_IDX] = features['CHAS'].mean()\n",
    "\n",
    "property_stats = features.mean().values.reshape(1, 11)"
   ]
  },
  {
   "cell_type": "code",
   "execution_count": 71,
   "id": "686df4c1",
   "metadata": {},
   "outputs": [],
   "source": [
    "regr = LinearRegression().fit(features, target)\n",
    "fitted_vals = regr.predict(features)\n",
    "\n",
    "# Calculatin MSE & RMSE with sklearn, in log thousand dollars\n",
    "MSE = round(mean_squared_error(y_true=target, y_pred=fitted_vals), 3) #default=True\n",
    "RMSE = round(mean_squared_error(y_true=target, y_pred=fitted_vals, squared=False), 3) \n",
    "\n",
    "def get_log_estimate(nr_rooms, \n",
    "                     students_per_classroom, \n",
    "                     next_to_river=False, \n",
    "                     high_confidence=True):\n",
    "    \n",
    "    # Configure property\n",
    "    property_stats [0] [RM_IDX] = nr_rooms\n",
    "    property_stats [0] [PTRATIO_IDX] = students_per_classroom\n",
    "    \n",
    "    #\n",
    "    if next_to_river:\n",
    "        property_stats[0][CHAS_IDX] = 1\n",
    "    else:\n",
    "        property_stats[0][CHAS_IDX] = 0\n",
    "        \n",
    "    # Make prediction\n",
    "    log_estimate = regr.predict(property_stats)[0][0]\n",
    "    \n",
    "    # Calc Range\n",
    "    if high_confidence:\n",
    "        upper_bound = log_estimate + 2*RMSE\n",
    "        lower_bound = log_estimate - 2*RMSE\n",
    "        interval = 95\n",
    "    else:\n",
    "        upper_bound = log_estimate + RMSE\n",
    "        lower_bound = log_estimate - RMSE\n",
    "        interval = 68\n",
    "    \n",
    "    return log_estimate, upper_bound, lower_bound, interval"
   ]
  },
  {
   "cell_type": "code",
   "execution_count": 72,
   "id": "2604fb83",
   "metadata": {},
   "outputs": [
    {
     "name": "stderr",
     "output_type": "stream",
     "text": [
      "C:\\Users\\migue\\anaconda3\\lib\\site-packages\\sklearn\\base.py:450: UserWarning: X does not have valid feature names, but LinearRegression was fitted with feature names\n",
      "  warnings.warn(\n"
     ]
    },
    {
     "data": {
      "text/plain": [
       "(2.776758191480403, 2.9647581914804033, 2.588758191480403, 68)"
      ]
     },
     "execution_count": 72,
     "metadata": {},
     "output_type": "execute_result"
    }
   ],
   "source": [
    "get_log_estimate(3, 20, next_to_river = True, high_confidence=False)"
   ]
  },
  {
   "cell_type": "code",
   "execution_count": 74,
   "id": "ab669266",
   "metadata": {},
   "outputs": [
    {
     "data": {
      "text/plain": [
       "21.2"
      ]
     },
     "execution_count": 74,
     "metadata": {},
     "output_type": "execute_result"
    }
   ],
   "source": [
    "np.median(boston_dataset.target)"
   ]
  },
  {
   "cell_type": "code",
   "execution_count": 81,
   "id": "5d7d9ac3",
   "metadata": {},
   "outputs": [
    {
     "name": "stdout",
     "output_type": "stream",
     "text": [
      "The estimated property values is 827000.0.\n",
      "At 68% confidence the valuation range is\n",
      "USD 685000.0 at the lower end to USD 998000.0 at the high end.\n"
     ]
    },
    {
     "name": "stderr",
     "output_type": "stream",
     "text": [
      "C:\\Users\\migue\\anaconda3\\lib\\site-packages\\sklearn\\base.py:450: UserWarning: X does not have valid feature names, but LinearRegression was fitted with feature names\n",
      "  warnings.warn(\n"
     ]
    }
   ],
   "source": [
    "# Converting log price estimates from 1970's including upper and lower bounds to today's prices.\n",
    "\n",
    "ZILLOW_MEDIAN_PRICE = 583.3 # It's the median house price from the zillow real-state website\n",
    "SCALE_FACTOR = ZILLOW_MEDIAN_PRICE / np.median(boston_dataset.target) # This would be equivalent to our interest rate\n",
    "\n",
    "log_est, upper, lower, conf = get_log_estimate(9, students_per_classroom=15,\n",
    "                                              next_to_river=False, high_confidence=False)\n",
    "# Convert to today's dollars\n",
    "dollar_est = np.e**log_est * 1000 * SCALE_FACTOR\n",
    "dollar_hi = np.e**upper * 1000 * SCALE_FACTOR\n",
    "dollar_low = np.e**lower * 1000 * SCALE_FACTOR\n",
    "\n",
    "# Round the dollar values to nearest thousand\n",
    "rounded_est = np.around(dollar_est, -3)\n",
    "rounded_hi = np.around(dollar_hi, -3)\n",
    "rounded_low = np.around(dollar_low, -3)\n",
    "\n",
    "print(f'The estimated property values is {rounded_est}.')\n",
    "print(f'At {conf}% confidence the valuation range is')\n",
    "print(f'USD {rounded_low} at the lower end to USD {rounded_hi} at the high end.')"
   ]
  },
  {
   "cell_type": "code",
   "execution_count": 92,
   "id": "e5f1c8e2",
   "metadata": {},
   "outputs": [],
   "source": [
    "def get_dollar_estimate(rm, ptratio, chas=False, large_range=True):\n",
    "    \"\"\" Estimate the price of a property in Boston\n",
    "    \n",
    "    Keyword arguments:\n",
    "    rm -- number of rooms in the property\n",
    "    ptratio -- number of students per teacher in the classroom for the school area\n",
    "    chas -- True if the property is next to the river, False otherwise\n",
    "    large_range -- True for a 95% prediction interval, false for a 68% interval\n",
    "    \n",
    "    \"\"\"\n",
    "    if rm < 1 or ptratio < 1:\n",
    "        print('That is unrealistic. Try again.')\n",
    "        return \n",
    "    \n",
    "    log_est, upper, lower, conf = get_log_estimate(rm, \n",
    "                                                   ptratio, \n",
    "                                                   next_to_river=chas, \n",
    "                                                   high_confidence=large_range)\n",
    "    # Convert to today's dollars\n",
    "    dollar_est = np.e**log_est * 1000 * SCALE_FACTOR\n",
    "    dollar_hi = np.e**upper * 1000 * SCALE_FACTOR\n",
    "    dollar_low = np.e**lower * 1000 * SCALE_FACTOR\n",
    "\n",
    "    # Round the dollar values to nearest thousand\n",
    "    rounded_est = np.around(dollar_est, -3)\n",
    "    rounded_hi = np.around(dollar_hi, -3)\n",
    "    rounded_low = np.around(dollar_low, -3)\n",
    "\n",
    "    print(f'The estimated property values is {rounded_est}.')\n",
    "    print(f'At {conf}% confidence the valuation range is')\n",
    "    print(f'USD {rounded_low} at the lower end to USD {rounded_hi} at the high end.')"
   ]
  },
  {
   "cell_type": "code",
   "execution_count": 90,
   "id": "658604e4",
   "metadata": {},
   "outputs": [
    {
     "name": "stdout",
     "output_type": "stream",
     "text": [
      "The estimated property values is 442000.0.\n",
      "At 95% confidence the valuation range is\n",
      "USD 304000.0 at the lower end to USD 644000.0 at the high end.\n"
     ]
    },
    {
     "name": "stderr",
     "output_type": "stream",
     "text": [
      "C:\\Users\\migue\\anaconda3\\lib\\site-packages\\sklearn\\base.py:450: UserWarning: X does not have valid feature names, but LinearRegression was fitted with feature names\n",
      "  warnings.warn(\n"
     ]
    }
   ],
   "source": [
    "get_dollar_estimate(rm=3, ptratio=20, chas=True)"
   ]
  },
  {
   "cell_type": "code",
   "execution_count": null,
   "id": "eb9ae5d2",
   "metadata": {},
   "outputs": [],
   "source": [
    "features.head()"
   ]
  },
  {
   "cell_type": "code",
   "execution_count": null,
   "id": "ae8633e4",
   "metadata": {},
   "outputs": [],
   "source": [
    "type(features.mean())"
   ]
  },
  {
   "cell_type": "code",
   "execution_count": null,
   "id": "a23c4054",
   "metadata": {},
   "outputs": [],
   "source": [
    "type(features.mean().values)"
   ]
  },
  {
   "cell_type": "code",
   "execution_count": 97,
   "id": "5956fec8",
   "metadata": {},
   "outputs": [
    {
     "name": "stdout",
     "output_type": "stream",
     "text": [
      "The estimated property values is 783000.0.\n",
      "At 95% confidence the valuation range is\n",
      "USD 537000.0 at the lower end to USD 1140000.0 at the high end.\n"
     ]
    },
    {
     "name": "stderr",
     "output_type": "stream",
     "text": [
      "C:\\Users\\migue\\anaconda3\\lib\\site-packages\\sklearn\\base.py:450: UserWarning: X does not have valid feature names, but LinearRegression was fitted with feature names\n",
      "  warnings.warn(\n"
     ]
    }
   ],
   "source": [
    "import boston_valuation as val\n",
    "val.get_dollar_estimate(6, 12, True)"
   ]
  },
  {
   "cell_type": "code",
   "execution_count": null,
   "id": "9af8dd0a",
   "metadata": {},
   "outputs": [],
   "source": []
  }
 ],
 "metadata": {
  "kernelspec": {
   "display_name": "Python 3 (ipykernel)",
   "language": "python",
   "name": "python3"
  },
  "language_info": {
   "codemirror_mode": {
    "name": "ipython",
    "version": 3
   },
   "file_extension": ".py",
   "mimetype": "text/x-python",
   "name": "python",
   "nbconvert_exporter": "python",
   "pygments_lexer": "ipython3",
   "version": "3.9.12"
  }
 },
 "nbformat": 4,
 "nbformat_minor": 5
}
